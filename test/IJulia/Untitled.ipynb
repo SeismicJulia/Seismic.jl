{
 "cells": [
  {
   "cell_type": "code",
   "execution_count": 1,
   "metadata": {
    "collapsed": false
   },
   "outputs": [
    {
     "ename": "LoadError",
     "evalue": "`SeisWriteHeaders` has no method matching SeisWriteHeaders(::ASCIIString, ::Array{Header,1}, ::Bool)\nwhile loading In[1], in expression starting on line 2",
     "output_type": "error",
     "traceback": [
      "`SeisWriteHeaders` has no method matching SeisWriteHeaders(::ASCIIString, ::Array{Header,1}, ::Bool)\nwhile loading In[1], in expression starting on line 2",
      "",
      " in SeisProcessHeaders at /Users/astanton/Seismic/src/Utils/SeisProcessHeaders.jl:28",
      " in SeisWindowHeaders at /Users/astanton/Seismic/src/Utils/SeisWindowHeaders.jl:4",
      " in SeisWindow at /Users/astanton/Seismic/src/Utils/SeisWindow.jl:23"
     ]
    }
   ],
   "source": [
    "using Seismic\n",
    "SeisWindow(\"616_79_PR.seis\",\"616_79_PR_imx_501_1000.seis\",key=[\"tracenum\" \"t\"],minval=[1 0.1],maxval=[1000 1.2])"
   ]
  },
  {
   "cell_type": "code",
   "execution_count": 2,
   "metadata": {
    "collapsed": false
   },
   "outputs": [
    {
     "ename": "LoadError",
     "evalue": "opening file NULL: No such file or directory\nwhile loading In[2], in expression starting on line 1",
     "output_type": "error",
     "traceback": [
      "opening file NULL: No such file or directory\nwhile loading In[2], in expression starting on line 1",
      "",
      " in systemerror at /Users/astanton/julia/usr/lib/julia/sys.dylib",
      " in open at ./iostream.jl:117",
      " in open at iostream.jl:122",
      " in SeisHeaderInfo at /Users/astanton/Seismic/src/Utils/SeisHeaderInfo.jl:12",
      " in SeisHeaderInfo at /Users/astanton/Seismic/src/Utils/SeisHeaderInfo.jl:8"
     ]
    }
   ],
   "source": [
    "SeisHeaderInfo(\"616_79_PR_imx_501_1000.seis\")"
   ]
  }
 ],
 "metadata": {
  "kernelspec": {
   "display_name": "Julia 0.3.11-pre",
   "language": "julia",
   "name": "julia-0.3"
  },
  "language_info": {
   "name": "julia",
   "version": "0.3.11"
  }
 },
 "nbformat": 4,
 "nbformat_minor": 0
}
