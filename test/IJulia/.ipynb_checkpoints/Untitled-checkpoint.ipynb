{
 "cells": [
  {
   "cell_type": "code",
   "execution_count": 1,
   "metadata": {
    "collapsed": false
   },
   "outputs": [],
   "source": [
    "using Seismic\n",
    "SeisWindow(\"616_79_PR.seis\",\"616_79_PR_imx_501_1000.seis\",key=[\"tracenum\"],minval=[501],maxval=[1000])"
   ]
  },
  {
   "cell_type": "code",
   "execution_count": 2,
   "metadata": {
    "collapsed": false
   },
   "outputs": [
    {
     "name": "stdout",
     "output_type": "stream",
     "text": [
      "Displaying information for 616_79_PR_imx_501_1000.seis (500 traces):\n",
      "       Key          Minimum          Maximum             Mean\n",
      "=============================================================\n",
      "  tracenum          401.000          900.000          650.500\n",
      "        o1            0.000            0.000            0.000\n",
      "        n1         1500.000         1500.000         1500.000\n",
      "        d1            0.004            0.004            0.004\n",
      "        sx            0.000            0.000            0.000\n",
      "        sy            0.000            0.000            0.000\n",
      "        gx            0.000            0.000            0.000\n",
      "        gy            0.000            0.000            0.000\n",
      "        mx            0.000            0.000            0.000\n",
      "        my            0.000            0.000            0.000\n",
      "        hx            0.000            0.000            0.000\n",
      "        hy            0.000            0.000            0.000\n",
      "         h            0.000            0.000            0.000\n",
      "        az            0.000            0.000            0.000\n",
      "       ang            0.000            0.000            0.000\n",
      "       isx            0.000            0.000            0.000\n",
      "       isy            0.000            0.000            0.000\n",
      "       igx            0.000            0.000            0.000\n",
      "       igy            0.000            0.000            0.000\n",
      "       imx          501.000         1000.000          750.500\n",
      "       imy            0.000            0.000            0.000\n",
      "       ihx            0.000            0.000            0.000\n",
      "       ihy            0.000            0.000            0.000\n",
      "        ih            0.000            0.000            0.000\n",
      "       iaz            0.000            0.000            0.000\n",
      "      iang            0.000            0.000            0.000\n",
      "     selev            0.000            0.000            0.000\n",
      "     gelev            0.000            0.000            0.000\n",
      "     sstat            0.000            0.000            0.000\n",
      "     gstat            0.000            0.000            0.000\n",
      "      trid            1.000            1.000            1.000\n"
     ]
    }
   ],
   "source": [
    "SeisHeaderInfo(\"616_79_PR_imx_501_1000.seis\")"
   ]
  },
  {
   "cell_type": "code",
   "execution_count": null,
   "metadata": {
    "collapsed": true
   },
   "outputs": [],
   "source": []
  }
 ],
 "metadata": {
  "kernelspec": {
   "display_name": "Julia 0.3.10-pre",
   "language": "julia",
   "name": "julia-0.3"
  },
  "language_info": {
   "file_extension": ".jl",
   "mimetype": "application/julia",
   "name": "julia",
   "version": "0.3.10"
  }
 },
 "nbformat": 4,
 "nbformat_minor": 0
}
